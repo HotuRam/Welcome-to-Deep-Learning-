{
 "metadata": {
  "language_info": {
   "codemirror_mode": {
    "name": "ipython",
    "version": 3
   },
   "file_extension": ".py",
   "mimetype": "text/x-python",
   "name": "python",
   "nbconvert_exporter": "python",
   "pygments_lexer": "ipython3",
   "version": "3.8.5"
  },
  "orig_nbformat": 2,
  "kernelspec": {
   "name": "python385jvsc74a57bd066792075dc4a0c82690bff1ee026543d6be9352a7fc7f32eaa5c9c12b992ec6d",
   "display_name": "Python 3.8.5 64-bit ('base': conda)"
  }
 },
 "nbformat": 4,
 "nbformat_minor": 2,
 "cells": [
  {
   "source": [
    "# Welcome to Deep Learning!\n",
    "\n",
    "\n",
    "Ryan Holbrook\n",
    "Data Scientist"
   ],
   "cell_type": "markdown",
   "metadata": {}
  },
  {
   "source": [
    "## A Single Neuron"
   ],
   "cell_type": "markdown",
   "metadata": {}
  },
  {
   "source": [
    "Using Keras and Tensorflow \n",
    "\n",
    "1. create connected neural network architecture\n",
    "\n",
    "2.apply to two ML problems - regression and classification\n",
    "\n",
    "3. train - stochastic gradient descent\n",
    "\n",
    "4. improved - dropout, batch normalisation and more."
   ],
   "cell_type": "markdown",
   "metadata": {}
  },
  {
   "source": [
    "Deep Learning\n",
    "\n",
    "tasks - natural language, image recognition, game playing.\n",
    "\n",
    "##  Deep learning is an approach to machine learning characterized by deep stacks of computations. This depth of computation is what has enabled deep learning models to disentangle the kinds of complex and hierarchical patterns found in the most challenging real-world datasets"
   ],
   "cell_type": "markdown",
   "metadata": {}
  },
  {
   "cell_type": "code",
   "execution_count": 1,
   "metadata": {},
   "outputs": [],
   "source": [
    "from tensorflow import keras\n",
    "from tensorflow.keras import layers\n",
    "\n",
    "# Create a network with 1 linear unit\n",
    "model = keras.Sequential([\n",
    "    layers.Dense(units=1, input_shape=[3])\n",
    "])"
   ]
  },
  {
   "source": [
    "## . The reason Keras uses a list here is to permit use of more complex datasets. Image data, for instance, might need three dimensions: [height, width, channels]."
   ],
   "cell_type": "markdown",
   "metadata": {}
  },
  {
   "cell_type": "code",
   "execution_count": 3,
   "metadata": {},
   "outputs": [],
   "source": [
    "from tensorflow import keras\n",
    "from tensorflow.keras import layers\n",
    "\n",
    "model = keras.Sequential([\n",
    "    # the hidden ReLU layers\n",
    "    layers.Dense(units=4, activation='relu', input_shape=[2]),\n",
    "    layers.Dense(units=3, activation='relu'),\n",
    "    # the linear output layer \n",
    "    layers.Dense(units=1),\n",
    "])\n",
    "\n",
    "# Be sure to pass all the layers together in a list, like [layer, layer, layer, ...], instead of as separate arguments. To add an activation function to a layer, just give its name in the activation argument."
   ]
  },
  {
   "source": [
    "## Deep Neural Networks"
   ],
   "cell_type": "markdown",
   "metadata": {}
  },
  {
   "source": [
    "# Binary Classification"
   ],
   "cell_type": "markdown",
   "metadata": {}
  },
  {
   "cell_type": "code",
   "execution_count": 5,
   "metadata": {},
   "outputs": [
    {
     "output_type": "display_data",
     "data": {
      "text/plain": "   V1  V2       V3       V4       V5       V6       V7       V8       V9  \\\n1   1   0  0.99539 -0.05889  0.85243  0.02306  0.83398 -0.37708  1.00000   \n2   1   0  1.00000 -0.18829  0.93035 -0.36156 -0.10868 -0.93597  1.00000   \n3   1   0  1.00000 -0.03365  1.00000  0.00485  1.00000 -0.12062  0.88965   \n4   1   0  1.00000 -0.45161  1.00000  1.00000  0.71216 -1.00000  0.00000   \n5   1   0  1.00000 -0.02401  0.94140  0.06531  0.92106 -0.23255  0.77152   \n\n       V10  ...      V26      V27      V28      V29      V30      V31  \\\n1  0.03760  ... -0.51171  0.41078 -0.46168  0.21266 -0.34090  0.42267   \n2 -0.04549  ... -0.26569 -0.20468 -0.18401 -0.19040 -0.11593 -0.16626   \n3  0.01198  ... -0.40220  0.58984 -0.22145  0.43100 -0.17365  0.60436   \n4  0.00000  ...  0.90695  0.51613  1.00000  1.00000 -0.20099  0.25682   \n5 -0.16399  ... -0.65158  0.13290 -0.53206  0.02431 -0.62197 -0.05707   \n\n       V32      V33      V34  Class  \n1 -0.54487  0.18641 -0.45300   good  \n2 -0.06288 -0.13738 -0.02447    bad  \n3 -0.24180  0.56045 -0.38238   good  \n4  1.00000 -0.32382  1.00000    bad  \n5 -0.59573 -0.04608 -0.65697   good  \n\n[5 rows x 35 columns]",
      "text/html": "<div>\n<style scoped>\n    .dataframe tbody tr th:only-of-type {\n        vertical-align: middle;\n    }\n\n    .dataframe tbody tr th {\n        vertical-align: top;\n    }\n\n    .dataframe thead th {\n        text-align: right;\n    }\n</style>\n<table border=\"1\" class=\"dataframe\">\n  <thead>\n    <tr style=\"text-align: right;\">\n      <th></th>\n      <th>V1</th>\n      <th>V2</th>\n      <th>V3</th>\n      <th>V4</th>\n      <th>V5</th>\n      <th>V6</th>\n      <th>V7</th>\n      <th>V8</th>\n      <th>V9</th>\n      <th>V10</th>\n      <th>...</th>\n      <th>V26</th>\n      <th>V27</th>\n      <th>V28</th>\n      <th>V29</th>\n      <th>V30</th>\n      <th>V31</th>\n      <th>V32</th>\n      <th>V33</th>\n      <th>V34</th>\n      <th>Class</th>\n    </tr>\n  </thead>\n  <tbody>\n    <tr>\n      <th>1</th>\n      <td>1</td>\n      <td>0</td>\n      <td>0.99539</td>\n      <td>-0.05889</td>\n      <td>0.85243</td>\n      <td>0.02306</td>\n      <td>0.83398</td>\n      <td>-0.37708</td>\n      <td>1.00000</td>\n      <td>0.03760</td>\n      <td>...</td>\n      <td>-0.51171</td>\n      <td>0.41078</td>\n      <td>-0.46168</td>\n      <td>0.21266</td>\n      <td>-0.34090</td>\n      <td>0.42267</td>\n      <td>-0.54487</td>\n      <td>0.18641</td>\n      <td>-0.45300</td>\n      <td>good</td>\n    </tr>\n    <tr>\n      <th>2</th>\n      <td>1</td>\n      <td>0</td>\n      <td>1.00000</td>\n      <td>-0.18829</td>\n      <td>0.93035</td>\n      <td>-0.36156</td>\n      <td>-0.10868</td>\n      <td>-0.93597</td>\n      <td>1.00000</td>\n      <td>-0.04549</td>\n      <td>...</td>\n      <td>-0.26569</td>\n      <td>-0.20468</td>\n      <td>-0.18401</td>\n      <td>-0.19040</td>\n      <td>-0.11593</td>\n      <td>-0.16626</td>\n      <td>-0.06288</td>\n      <td>-0.13738</td>\n      <td>-0.02447</td>\n      <td>bad</td>\n    </tr>\n    <tr>\n      <th>3</th>\n      <td>1</td>\n      <td>0</td>\n      <td>1.00000</td>\n      <td>-0.03365</td>\n      <td>1.00000</td>\n      <td>0.00485</td>\n      <td>1.00000</td>\n      <td>-0.12062</td>\n      <td>0.88965</td>\n      <td>0.01198</td>\n      <td>...</td>\n      <td>-0.40220</td>\n      <td>0.58984</td>\n      <td>-0.22145</td>\n      <td>0.43100</td>\n      <td>-0.17365</td>\n      <td>0.60436</td>\n      <td>-0.24180</td>\n      <td>0.56045</td>\n      <td>-0.38238</td>\n      <td>good</td>\n    </tr>\n    <tr>\n      <th>4</th>\n      <td>1</td>\n      <td>0</td>\n      <td>1.00000</td>\n      <td>-0.45161</td>\n      <td>1.00000</td>\n      <td>1.00000</td>\n      <td>0.71216</td>\n      <td>-1.00000</td>\n      <td>0.00000</td>\n      <td>0.00000</td>\n      <td>...</td>\n      <td>0.90695</td>\n      <td>0.51613</td>\n      <td>1.00000</td>\n      <td>1.00000</td>\n      <td>-0.20099</td>\n      <td>0.25682</td>\n      <td>1.00000</td>\n      <td>-0.32382</td>\n      <td>1.00000</td>\n      <td>bad</td>\n    </tr>\n    <tr>\n      <th>5</th>\n      <td>1</td>\n      <td>0</td>\n      <td>1.00000</td>\n      <td>-0.02401</td>\n      <td>0.94140</td>\n      <td>0.06531</td>\n      <td>0.92106</td>\n      <td>-0.23255</td>\n      <td>0.77152</td>\n      <td>-0.16399</td>\n      <td>...</td>\n      <td>-0.65158</td>\n      <td>0.13290</td>\n      <td>-0.53206</td>\n      <td>0.02431</td>\n      <td>-0.62197</td>\n      <td>-0.05707</td>\n      <td>-0.59573</td>\n      <td>-0.04608</td>\n      <td>-0.65697</td>\n      <td>good</td>\n    </tr>\n  </tbody>\n</table>\n<p>5 rows × 35 columns</p>\n</div>"
     },
     "metadata": {}
    }
   ],
   "source": [
    "import pandas as pd\n",
    "from IPython.display import display\n",
    "\n",
    "ion = pd.read_csv('ion.csv', index_col=0)\n",
    "display(ion.head())\n",
    "\n",
    "df = ion.copy()\n",
    "df['Class'] = df['Class'].map({'good': 0, 'bad': 1})\n",
    "\n",
    "df_train = df.sample(frac=0.7, random_state=0)\n",
    "df_valid = df.drop(df_train.index)\n",
    "\n",
    "max_ = df_train.max(axis=0)\n",
    "min_ = df_train.min(axis=0)\n",
    "\n",
    "df_train = (df_train - min_) / (max_ - min_)\n",
    "df_valid = (df_valid - min_) / (max_ - min_)\n",
    "df_train.dropna(axis=1, inplace=True) # drop the empty feature in column 2\n",
    "df_valid.dropna(axis=1, inplace=True)\n",
    "\n",
    "X_train = df_train.drop('Class', axis=1)\n",
    "X_valid = df_valid.drop('Class', axis=1)\n",
    "y_train = df_train['Class']\n",
    "y_valid = df_valid['Class']"
   ]
  },
  {
   "cell_type": "code",
   "execution_count": 6,
   "metadata": {},
   "outputs": [],
   "source": [
    "from tensorflow import keras\n",
    "from tensorflow.keras import layers\n",
    "\n",
    "model = keras.Sequential([\n",
    "    layers.Dense(4, activation='relu', input_shape=[33]),\n",
    "    layers.Dense(4, activation='relu'),    \n",
    "    layers.Dense(1, activation='sigmoid'),\n",
    "])"
   ]
  },
  {
   "cell_type": "code",
   "execution_count": 7,
   "metadata": {},
   "outputs": [],
   "source": [
    "model.compile(\n",
    "    optimizer='adam',\n",
    "    loss='binary_crossentropy',\n",
    "    metrics=['binary_accuracy'],\n",
    ")\n"
   ]
  },
  {
   "cell_type": "code",
   "execution_count": 8,
   "metadata": {},
   "outputs": [],
   "source": [
    "early_stopping = keras.callbacks.EarlyStopping(\n",
    "    patience=10,\n",
    "    min_delta=0.001,\n",
    "    restore_best_weights=True,\n",
    ")\n",
    "\n",
    "history = model.fit(\n",
    "    X_train, y_train,\n",
    "    validation_data=(X_valid, y_valid),\n",
    "    batch_size=512,\n",
    "    epochs=1000,\n",
    "    callbacks=[early_stopping],\n",
    "    verbose=0, # hide the output because we have so many epochs\n",
    ")"
   ]
  },
  {
   "cell_type": "code",
   "execution_count": 9,
   "metadata": {},
   "outputs": [
    {
     "output_type": "stream",
     "name": "stdout",
     "text": [
      "Best Validation Loss: 0.5510\nBest Validation Accuracy: 0.7619\n"
     ]
    },
    {
     "output_type": "display_data",
     "data": {
      "text/plain": "<Figure size 432x288 with 1 Axes>",
      "image/png": "[encoded data removed]"
     },
     "metadata": {
      "needs_background": "light"
     }
    },
    {
     "output_type": "display_data",
     "data": {
      "text/plain": "<Figure size 432x288 with 1 Axes>",
      "image/png": "[encoded data removed]"
     },
     "metadata": {
      "needs_background": "light"
     }
    }
   ],
   "source": [
    "history_df = pd.DataFrame(history.history)\n",
    "# Start the plot at epoch 5\n",
    "history_df.loc[5:, ['loss', 'val_loss']].plot()\n",
    "history_df.loc[5:, ['binary_accuracy', 'val_binary_accuracy']].plot()\n",
    "\n",
    "print((\"Best Validation Loss: {:0.4f}\" +\\\n",
    "      \"\\nBest Validation Accuracy: {:0.4f}\")\\\n",
    "      .format(history_df['val_loss'].min(), \n",
    "              history_df['val_binary_accuracy'].max()))"
   ]
  },
  {
   "cell_type": "code",
   "execution_count": null,
   "metadata": {},
   "outputs": [],
   "source": []
  }
 ]
}